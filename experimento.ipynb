{
 "cells": [
  {
   "cell_type": "markdown",
   "metadata": {},
   "source": [
    "# Práctica Teoría de la información \n",
    "## Experimentos y código\n",
    "\n",
    "Autores: \n",
    "- Blanca Cano Camarero\n",
    "- Iker Villegas Labairu\n",
    "\n",
    "Primer semestre curso 2022-2023"
   ]
  },
  {
   "cell_type": "markdown",
   "metadata": {},
   "source": [
    "## Lectura de los datos \n",
    "\n",
    "### Descripción \n",
    "Para gestión de la información se utilizará la biblioteca de pandas, no es necesario gestionar la memoria porque las arquitecturas de nuestros ordenadores la manejan sin problemas. \n",
    "\n",
    "La estructura de los ficheros viene dada en la información de los datos, en el fichero \n",
    "`InformacionFicheros.txt` y en las tres primeras líneas de los mismos (las cuales deberán de ser obviadas para la lectura del fichero). \n",
    "\n",
    "### Requisitos \n",
    "- Tener las respectivas biblioteca instaladas. \n",
    "- Los datos deben encontrarse en path indicado en la variable `data_path`. \n",
    "\n"
   ]
  },
  {
   "cell_type": "code",
   "execution_count": 1,
   "metadata": {},
   "outputs": [
    {
     "name": "stdout",
     "output_type": "stream",
     "text": [
      "Datos fichero trozo C\n",
      "-----------------------\n",
      "Sample interval = 0,100000\n",
      "Number of channels = 2\n",
      "Number of samples per channel = 19847700\n",
      "0,004883\t0,015259\t\n",
      "0,001526\t0,024109\t\n",
      "\n",
      "Datos fichero trozo G\n",
      "-----------------------\n",
      "Sample interval = 0,100000\n",
      "Number of channels = 3\n",
      "Number of samples per channel = 16384000\n",
      "-0,006104\t0,064697\t0,120239\t\n",
      "-0,004272\t0,075989\t0,126343\t\n",
      "\n",
      "Datos fichero trozo R\n",
      "-----------------------\n",
      "Sample interval = 0,100000\n",
      "Number of channels = 2\n",
      "Number of samples per channel = 16384000\n",
      "-0,008240\t0,084534\t\n",
      "-0,009460\t0,070190\t\n"
     ]
    }
   ],
   "source": [
    "print('Datos fichero trozo C')\n",
    "print(23*'-')\n",
    "!head -n 5 ./DatosSinapsisArtificial/TrozoC.txt \n",
    "print('\\nDatos fichero trozo G')\n",
    "print(23*'-') \n",
    "!head -n 5 ./DatosSinapsisArtificial/TrozoG.txt  \n",
    "print('\\nDatos fichero trozo R')\n",
    "print(23*'-') \n",
    "!head -n 5 ./DatosSinapsisArtificial/TrozoR.txt  "
   ]
  },
  {
   "cell_type": "code",
   "execution_count": 2,
   "metadata": {},
   "outputs": [],
   "source": [
    "# Bibliotecas\n",
    "import pandas as pd # Lectura de datos\n",
    "import matplotlib.pyplot as plt # Dibujo de las gráficas \n",
    "import numpy as np # Matrix operations"
   ]
  },
  {
   "cell_type": "code",
   "execution_count": 3,
   "metadata": {},
   "outputs": [],
   "source": [
    "data_path = './DatosSinapsisArtificial/'\n",
    "fileTrozoC , fileTrozoG, fileTrozoR = map( \n",
    "    lambda letra: data_path+'Trozo'+ letra + '.txt',\n",
    "    \"C G R\".split()\n",
    "    )\n",
    "# Leemos fichero trozoC\n",
    "trozoC = pd.read_csv( \n",
    "    fileTrozoC, \n",
    "    names = [\"LP\", \"VD\"], \n",
    "    delimiter = \"\\t\", \n",
    "    skiprows = range(3), \n",
    "    index_col = False, \n",
    "    decimal = \",\"\n",
    ")\n",
    "\n",
    "# Leemos fichero trozoG\n",
    "trozoG = pd.read_csv( \n",
    "    fileTrozoG, \n",
    "    names = [\"LP\", \"VD\", \"GABAInjection\"], \n",
    "    delimiter = \"\\t\", \n",
    "    skiprows = range(3), \n",
    "    index_col = False, \n",
    "    decimal = \",\"\n",
    ")\n",
    "\n",
    "# Leemos fichero trozoR\n",
    "trozoR = pd.read_csv( \n",
    "    fileTrozoR, \n",
    "    names = [\"LP\", \"VD\"], \n",
    "    delimiter = \"\\t\", \n",
    "    skiprows = range(3), \n",
    "    index_col = False, \n",
    "    decimal = \",\"\n",
    ")\n",
    "\n",
    "## Data  \n",
    "samples_per_channel_trozoC = data_path = './DatosSinapsisArtificial/'\n",
    "fileTrozoC , fileTrozoG, fileTrozoR = map( \n",
    "    lambda letra: data_path+'Trozo'+ letra + '.txt',\n",
    "    \"C G R\".split()\n",
    "    )\n",
    "# Leemos fichero trozoC\n",
    "trozoC = pd.read_csv( \n",
    "    fileTrozoC, \n",
    "    names = [\"LP\", \"VD\"], \n",
    "    delimiter = \"\\t\", \n",
    "    skiprows = range(3), \n",
    "    index_col = False, \n",
    "    decimal = \",\"\n",
    ")\n",
    "\n",
    "# Leemos fichero trozoG\n",
    "trozoG = pd.read_csv( \n",
    "    fileTrozoG, \n",
    "    names = [\"LP\", \"VD\", \"GABAInjection\"], \n",
    "    delimiter = \"\\t\", \n",
    "    skiprows = range(3), \n",
    "    index_col = False, \n",
    "    decimal = \",\"\n",
    ")\n",
    "\n",
    "# Leemos fichero trozoR\n",
    "trozoR = pd.read_csv( \n",
    "    fileTrozoR, \n",
    "    names = [\"LP\", \"VD\"], \n",
    "    delimiter = \"\\t\", \n",
    "    skiprows = range(3), \n",
    "    index_col = False, \n",
    "    decimal = \",\"\n",
    ")\n",
    "\n",
    "## Data information \n",
    "sample_interval = 0.1\n",
    "samples_per_channel_trozoC = 19847700\n",
    "samples_per_channel_trozoG = 16384000\n",
    "samples_per_channel_trozoR = 16384000"
   ]
  },
  {
   "cell_type": "code",
   "execution_count": 4,
   "metadata": {},
   "outputs": [
    {
     "data": {
      "text/plain": [
       "[<matplotlib.lines.Line2D at 0x334635190>]"
      ]
     },
     "execution_count": 4,
     "metadata": {},
     "output_type": "execute_result"
    },
    {
     "data": {
      "image/png": "[encoded data removed]",
      "text/plain": [
       "<Figure size 432x288 with 1 Axes>"
      ]
     },
     "metadata": {
      "needs_background": "light"
     },
     "output_type": "display_data"
    }
   ],
   "source": [
    "LP = \"LP\"\n",
    "x_trozoC = sample_interval * np.arange(start=0, stop=samples_per_channel_trozoC)\n",
    "slice = 100\n",
    "plt.plot(x_trozoC[0:slice], trozoC[LP].to_list()[:slice])"
   ]
  },
  {
   "cell_type": "code",
   "execution_count": 5,
   "metadata": {},
   "outputs": [
    {
     "name": "stdout",
     "output_type": "stream",
     "text": [
      "chivato: -2.2538530912908192e-08 0.08214041697398812\n",
      "0.16428081140944534 -0.16428085648650714\n"
     ]
    }
   ],
   "source": [
    "# Vamos a sacar los umbrales  \n",
    "\n",
    "from utils import threshold\n",
    "\n",
    "higher_threshold, lower_threshold = threshold(trozoC[LP].to_list())\n",
    "print(higher_threshold, lower_threshold)"
   ]
  },
  {
   "cell_type": "markdown",
   "metadata": {},
   "source": [
    "Vamos a calcular los umbrales, todavía no sabemos exactamente cuál va a ser, así que vamos a probar algunos.  \n",
    "\n",
    "Añadir porqué no se puede utilizar cuantiles."
   ]
  },
  {
   "cell_type": "code",
   "execution_count": 7,
   "metadata": {},
   "outputs": [
    {
     "name": "stdout",
     "output_type": "stream",
     "text": [
      "chivato: -2.2538530912908192e-08 0.08214041697398812\n",
      "Umbral con 1\n",
      "0.0821403944354572 -0.08214043951251904\n",
      "chivato: -2.2538530912908192e-08 0.08214041697398812\n",
      "Umbral con 1.5\n",
      "0.12321060292245127 -0.1232106479995131\n",
      "chivato: -2.2538530912908192e-08 0.08214041697398812\n",
      "Umbral con 2\n",
      "0.16428081140944534 -0.16428085648650714\n",
      "chivato: -2.2538530912908192e-08 0.08214041697398812\n",
      "Umbral con 3\n",
      "0.24642122838343347 -0.24642127346049528\n"
     ]
    }
   ],
   "source": [
    "for p in [1, 1.5, 2, 3]:\n",
    "    higher_threshold, lower_threshold = threshold(trozoC[LP].to_list(), p)\n",
    "    print(f\"Umbral con {p}\")\n",
    "    print(higher_threshold, lower_threshold)    "
   ]
  },
  {
   "cell_type": "markdown",
   "metadata": {},
   "source": []
  }
 ],
 "metadata": {
  "kernelspec": {
   "display_name": "Python 3.9.7 ('tensorflow')",
   "language": "python",
   "name": "python3"
  },
  "language_info": {
   "codemirror_mode": {
    "name": "ipython",
    "version": 3
   },
   "file_extension": ".py",
   "mimetype": "text/x-python",
   "name": "python",
   "nbconvert_exporter": "python",
   "pygments_lexer": "ipython3",
   "version": "3.9.7"
  },
  "orig_nbformat": 4,
  "vscode": {
   "interpreter": {
    "hash": "24dcaf82da949eb8a169ffe40fd331a23a642ab22de3e08713f616aa663d0868"
   }
  }
 },
 "nbformat": 4,
 "nbformat_minor": 2
}
