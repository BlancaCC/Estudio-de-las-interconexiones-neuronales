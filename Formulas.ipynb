{
 "cells": [
  {
   "cell_type": "code",
   "execution_count": 13,
   "metadata": {},
   "outputs": [],
   "source": [
    "import numpy as np\n",
    "import math\n",
    "\n",
    "def probabilidad(X):\n",
    "\n",
    "    X_cases, counts = np.unique(X, return_counts = True, axis = 0)\n",
    "    probs = np.zeros(len(X))\n",
    "    for i in range(len(X)):\n",
    "        for j in range(len(X_cases)):\n",
    "            if np.array_equal(X[i],X_cases[j]):\n",
    "                probs[i] = counts[j]/len(X)\n",
    "    return probs\n",
    "\n",
    "def palabras(X,bits):\n",
    "\n",
    "    '''\n",
    "    X es un vector con una sucesión de 1's y 0's, y bits es la longitud en la que se va a dividir dicho vector para formar las \n",
    "    palabras. Esta función devuelve un vector con las palabras (a modo de subvectores de unos y ceros) en las que se ha dividido el\n",
    "    vector X.\n",
    "    '''\n",
    "\n",
    "    number_index = len(X)/bits\n",
    "    return np.array_split(X,number_index)\n",
    "\n",
    "def entropia(X,bits):\n",
    "\n",
    "    '''\n",
    "    Cálculo de la entropía de un conjunto de datos, donde X es el vector que contiene las palabras y bits la variable correspondiente a\n",
    "    la longitud de dichas palabras\n",
    "    '''\n",
    "    X_words = palabras(X,bits)\n",
    "    probs = probabilidad(X_words)\n",
    "    print(f\"probs = {probs}\")\n",
    "    H = 0\n",
    "    for p in probs:\n",
    "        H += -p*math.log(p,2)\n",
    "    return H\n",
    "\n"
   ]
  },
  {
   "cell_type": "code",
   "execution_count": null,
   "metadata": {},
   "outputs": [],
   "source": []
  }
 ],
 "metadata": {
  "kernelspec": {
   "display_name": "Python 3.6.4 ('base')",
   "language": "python",
   "name": "python3"
  },
  "language_info": {
   "codemirror_mode": {
    "name": "ipython",
    "version": 3
   },
   "file_extension": ".py",
   "mimetype": "text/x-python",
   "name": "python",
   "nbconvert_exporter": "python",
   "pygments_lexer": "ipython3",
   "version": "3.6.4"
  },
  "orig_nbformat": 4,
  "vscode": {
   "interpreter": {
    "hash": "7bdfec4e4745230aa72b6b3b9f6cf04179ed160966ad1f3d6706347769a5dbdb"
   }
  }
 },
 "nbformat": 4,
 "nbformat_minor": 2
}
