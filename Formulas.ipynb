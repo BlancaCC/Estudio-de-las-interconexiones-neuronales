{
 "cells": [
  {
   "cell_type": "code",
   "execution_count": 2,
   "metadata": {},
   "outputs": [],
   "source": [
    "\n",
    "import numpy as np\n",
    "import math \n",
    "\n",
    "def probabilidad(v):\n",
    "\n",
    "    '''\n",
    "    Probabilidad de aparición de un evento donde X es un vector de ceros y unos correspondiente a una palabra de igual o menos de\n",
    "    8 bits.\n",
    "    '''\n",
    "\n",
    "    c_favorables = 0\n",
    "    for var in v:\n",
    "        if var == 1:\n",
    "            c_favorables += 1\n",
    "        elif var != 0 and var != 1:\n",
    "            print(f\"Vector de entrada X incorrecto: la variable {var} no puede estar contenida en dicho vector\")\n",
    "            break\n",
    "    return c_favorables/len(v) \n",
    "\n",
    "def palabras(X,bits):\n",
    "\n",
    "    '''\n",
    "    X es un vector con una sucesión de 1's y 0's, y bits es la longitud en la que se va a dividir dicho vector para formar las \n",
    "    palabras. Esta función devuelve un vector con las palabras (a modo de subvectores de unos y ceros) en las que se ha dividido el\n",
    "    vector X.\n",
    "    '''\n",
    "\n",
    "    number_index = len(X)/bits\n",
    "    return np.array_split(X,number_index)\n",
    "\n",
    "def entropia(X,bits):\n",
    "\n",
    "    '''\n",
    "    Cálculo de la entropía de un conjunto de datos, donde X es el vector que contiene las palabras y bits la variable correspondiente a\n",
    "    la longitud de dichas palabras\n",
    "    '''\n",
    "    X_words = palabras(X,bits)\n",
    "    H = 0\n",
    "    for word in X_words:\n",
    "        prob = probabilidad(word)\n",
    "        H += -prob*math.log(prob,2)\n",
    "    return H\n",
    "\n",
    "\n",
    "\n"
   ]
  }
 ],
 "metadata": {
  "kernelspec": {
   "display_name": "Python 3.10.7 64-bit",
   "language": "python",
   "name": "python3"
  },
  "language_info": {
   "codemirror_mode": {
    "name": "ipython",
    "version": 3
   },
   "file_extension": ".py",
   "mimetype": "text/x-python",
   "name": "python",
   "nbconvert_exporter": "python",
   "pygments_lexer": "ipython3",
   "version": "3.10.7"
  },
  "orig_nbformat": 4,
  "vscode": {
   "interpreter": {
    "hash": "8c3d4d9970fc5c09c50d9318a9c7fbf4d0159e4b28833276f5678ee22bded273"
   }
  }
 },
 "nbformat": 4,
 "nbformat_minor": 2
}
